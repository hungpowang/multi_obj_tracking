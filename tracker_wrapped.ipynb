{
  "nbformat": 4,
  "nbformat_minor": 0,
  "metadata": {
    "colab": {
      "name": "tracker_wrapped.ipynb",
      "provenance": [],
      "collapsed_sections": []
    },
    "kernelspec": {
      "name": "python3",
      "display_name": "Python 3"
    }
  },
  "cells": [
    {
      "cell_type": "markdown",
      "metadata": {
        "id": "pBfUksKZc68Z",
        "colab_type": "text"
      },
      "source": [
        "## 準備一些實驗資料"
      ]
    },
    {
      "cell_type": "code",
      "metadata": {
        "colab_type": "code",
        "id": "jerm_AR-_g-M",
        "colab": {
          "base_uri": "https://localhost:8080/",
          "height": 55
        },
        "outputId": "ba634f09-7ab5-48f7-a851-66718b5ba729"
      },
      "source": [
        "boxes_0 = []\n",
        "with open(\"boxes0.txt\", 'r', encoding='utf-8') as f:\n",
        "  datas = f.readlines()\n",
        "\n",
        "for data in datas:\n",
        "  box = data.split(',')\n",
        "  boxes_0.append([int(box[0]), int(box[1]), int(box[2]), int(box[3])])\n",
        "\n",
        "print(boxes_0)"
      ],
      "execution_count": null,
      "outputs": [
        {
          "output_type": "stream",
          "text": [
            "[[971, 310, 54, 120], [500, 296, 47, 116], [944, 475, 69, 116], [757, 629, 70, 91], [443, 431, 54, 141], [761, 333, 42, 104]]\n"
          ],
          "name": "stdout"
        }
      ]
    },
    {
      "cell_type": "code",
      "metadata": {
        "colab_type": "code",
        "id": "Hh1bFz8yBY8I",
        "colab": {}
      },
      "source": [
        "boxes_1 = []\n",
        "with open(\"boxes1.txt\", 'r', encoding='utf-8') as f:\n",
        "  datas = f.readlines()\n",
        "\n",
        "for data in datas:\n",
        "  box = data.split(',')\n",
        "  boxes_1.append([int(box[0]), int(box[1]), int(box[2]), int(box[3])])\n",
        "\n",
        "print(boxes_1)"
      ],
      "execution_count": null,
      "outputs": []
    },
    {
      "cell_type": "code",
      "metadata": {
        "id": "6QUpDtHgaRjl",
        "colab_type": "code",
        "colab": {}
      },
      "source": [
        "# 讀入frame 2, frame 3的bounding boxes\n",
        "boxes_2 = []\n",
        "with open(\"boxes2.txt\", 'r', encoding='utf-8') as f:\n",
        "  datas = f.readlines()\n",
        "for data in datas:\n",
        "  box = data.split(',')\n",
        "  boxes_2.append([int(box[0]), int(box[1]), int(box[2]), int(box[3])])\n",
        "boxes_3 = []\n",
        "with open(\"boxes3.txt\", 'r', encoding='utf-8') as f:\n",
        "  datas = f.readlines()\n",
        "for data in datas:\n",
        "  box = data.split(',')\n",
        "  boxes_3.append([int(box[0]), int(box[1]), int(box[2]), int(box[3])])\n",
        "\n",
        "print(boxes_2)\n",
        "print(boxes_3)"
      ],
      "execution_count": null,
      "outputs": []
    },
    {
      "cell_type": "markdown",
      "metadata": {
        "id": "J9W1Y1N3c30x",
        "colab_type": "text"
      },
      "source": [
        "---"
      ]
    },
    {
      "cell_type": "code",
      "metadata": {
        "id": "9wvST2Jz0ltB",
        "colab_type": "code",
        "colab": {}
      },
      "source": [
        "import pandas as pd\n",
        "import numpy as np"
      ],
      "execution_count": null,
      "outputs": []
    },
    {
      "cell_type": "code",
      "metadata": {
        "id": "WN0-TaQ8-VUN",
        "colab_type": "code",
        "colab": {}
      },
      "source": [
        "# 設定一個合理的移動距離\n",
        "DISTANCE_TH = 13.0\n",
        "\n",
        "# 設定信心度下降率\n",
        "CONFIDENCE_DROP_RATE = 0.9\n",
        "\n",
        "# 設定信心度TH\n",
        "CONFIDENCE_THRESHOLD = 0.5"
      ],
      "execution_count": null,
      "outputs": []
    },
    {
      "cell_type": "markdown",
      "metadata": {
        "id": "AnAMBUnq0Y8U",
        "colab_type": "text"
      },
      "source": [
        "---\n",
        "# Utility Functions"
      ]
    },
    {
      "cell_type": "code",
      "metadata": {
        "id": "TC9myQbe0WFk",
        "colab_type": "code",
        "colab": {}
      },
      "source": [
        "# 取得bounding box中心點\n",
        "def get_center(box):\n",
        "    cx = box[0] + box[2] // 2\n",
        "    cy = box[1] + box[3] // 2\n",
        "    return [cx, cy]"
      ],
      "execution_count": null,
      "outputs": []
    },
    {
      "cell_type": "code",
      "metadata": {
        "id": "jcxTHGBG0ySs",
        "colab_type": "code",
        "colab": {}
      },
      "source": [
        "# 取得兩點間歐式距離\n",
        "def get_distance(position_1, position_2):\n",
        "    vector1 = np.array(position_1)\n",
        "    vector2 = np.array(position_2)\n",
        "    dist = np.linalg.norm(vector1-vector2)\n",
        "    return dist"
      ],
      "execution_count": null,
      "outputs": []
    },
    {
      "cell_type": "code",
      "metadata": {
        "id": "g6eRn-u70zHy",
        "colab_type": "code",
        "colab": {}
      },
      "source": [
        "# Tracking table initialization with ID\n",
        "def tracking_table_init_with_id(boxes):\n",
        "    '''\n",
        "        只會用在第一個frame\n",
        "\n",
        "        build TABLE as\n",
        "        [ {ID::int, POSITION::[x, y], CONFIDENCE::float} ]\n",
        "    '''\n",
        "    tracking_table = []\n",
        "    for i, box in enumerate(boxes):\n",
        "        item = {'id': i, 'pos': get_center(box), 'confidence': 1.0}\n",
        "        tracking_table.append(item)\n",
        "    return tracking_table"
      ],
      "execution_count": null,
      "outputs": []
    },
    {
      "cell_type": "markdown",
      "metadata": {
        "id": "klqBvRdR01yE",
        "colab_type": "text"
      },
      "source": [
        "# Tracking table initialization without ID\n",
        "def tracking_table_init(boxes):\n",
        "    '''\n",
        "        只填入中心點座標\n",
        "\n",
        "        build TABLE as\n",
        "        [ {ID::int, POSITION::[x, y], CONFIDENCE::float} ]\n",
        "    '''\n",
        "    tracking_table = []\n",
        "    for i, box in enumerate(boxes):\n",
        "        item = {'id': None, 'pos': get_center(box), 'confidence': None}\n",
        "        tracking_table.append(item)\n",
        "    return tracking_table"
      ]
    },
    {
      "cell_type": "code",
      "metadata": {
        "colab_type": "code",
        "id": "CMco5OlfCpm2",
        "colab": {}
      },
      "source": [
        "# 建立兩個frame每個box之間的距離表\n",
        "# 輸入為:: TABLE\n",
        "def build_dist_table_boxes(current_table, last_table):\n",
        "    dist_table = []\n",
        "    dist = []\n",
        "\n",
        "    for box_n in current_table:\n",
        "        for box_o in last_table:  # get one row\n",
        "            dist.append(round(get_distance(box_o['pos'], box_n['pos']), 2))\n",
        "        dist_table.append(dist)\n",
        "        dist = []\n",
        "\n",
        "    new_names = ['curr_{}' .format(i) for i in range(len(current_table))]\n",
        "    old_names = ['last_{}' .format(i) for i in range(len(last_table))]\n",
        "    df = pd.DataFrame(dist_table, index=new_names, columns=old_names)\n",
        "    print(\"Dimension of DF=\", df.shape)\n",
        "    return df"
      ],
      "execution_count": 1,
      "outputs": []
    },
    {
      "cell_type": "markdown",
      "metadata": {
        "id": "9bQGqsxnGTIw",
        "colab_type": "text"
      },
      "source": [
        "---"
      ]
    },
    {
      "cell_type": "markdown",
      "metadata": {
        "id": "XOh-zawQXY5v",
        "colab_type": "text"
      },
      "source": [
        "# Restart from scratch"
      ]
    },
    {
      "cell_type": "markdown",
      "metadata": {
        "id": "KDCPnMvuXqwD",
        "colab_type": "text"
      },
      "source": [
        "## STEP 0 - Initializing tables"
      ]
    },
    {
      "cell_type": "markdown",
      "metadata": {
        "id": "8s7Bi7zdIAtY",
        "colab_type": "text"
      },
      "source": [
        "#### 從Frame 0 開始的作法\n",
        "> 需要加上FLAG控制"
      ]
    },
    {
      "cell_type": "code",
      "metadata": {
        "id": "fM6cOt85bwdo",
        "colab_type": "code",
        "colab": {
          "base_uri": "https://localhost:8080/",
          "height": 110
        },
        "outputId": "16eabd18-0ce6-4a04-9bf2-0e5d32c9237c"
      },
      "source": [
        "# input data: boxes_2, boxes_3\n",
        "old = tracking_table_init_with_id(boxes_2)\n",
        "\n",
        "print(old)\n",
        "print(new)\n",
        "print(\"Length of old:\", len(old))\n",
        "print(\"Length of new:\", len(new))"
      ],
      "execution_count": null,
      "outputs": [
        {
          "output_type": "stream",
          "text": [
            "[{'id': 0, 'pos': [474, 487], 'confidence': 1.0}, {'id': 1, 'pos': [792, 671], 'confidence': 1.0}, {'id': 2, 'pos': [527, 346], 'confidence': 1.0}, {'id': 3, 'pos': [973, 533], 'confidence': 1.0}, {'id': 4, 'pos': [782, 379], 'confidence': 1.0}, {'id': 5, 'pos': [1000, 374], 'confidence': 1.0}]\n",
            "[{'id': None, 'pos': [473, 480], 'confidence': None}, {'id': None, 'pos': [971, 534], 'confidence': None}, {'id': None, 'pos': [527, 342], 'confidence': None}, {'id': None, 'pos': [792, 669], 'confidence': None}, {'id': None, 'pos': [782, 373], 'confidence': None}]\n",
            "Length of old: 6\n",
            "Length of new: 5\n"
          ],
          "name": "stdout"
        }
      ]
    },
    {
      "cell_type": "markdown",
      "metadata": {
        "id": "GxXRnQpYIJH3",
        "colab_type": "text"
      },
      "source": [
        "#### 從Frame >=1 開始的作法\n",
        "* old = new\n",
        "* new = init(新的Frame)"
      ]
    },
    {
      "cell_type": "code",
      "metadata": {
        "id": "pVESg1xUIKyf",
        "colab_type": "code",
        "colab": {}
      },
      "source": [
        "# old = new\n",
        "# new = tracking_table_init(boxes_new)"
      ],
      "execution_count": null,
      "outputs": []
    },
    {
      "cell_type": "markdown",
      "metadata": {
        "id": "CZh5UuP4XvDn",
        "colab_type": "text"
      },
      "source": [
        "## STEP 1 - Pairing\n",
        "* 1-1 Generate dist_df\n",
        "* 1-2 Loop for each column(old)\n",
        "> * find min\n",
        "> * pairing\n",
        "> * Remove Column\n",
        "> * Remove Row(if success)\n",
        "* 1-3 Row remain in dist_table: give new ID & C=1"
      ]
    },
    {
      "cell_type": "code",
      "metadata": {
        "id": "AFqDuVOrRFIP",
        "colab_type": "code",
        "colab": {}
      },
      "source": [
        "def do_pairing(new, old):\n",
        "    '''\n",
        "    * 1-1 Generate dist_df\n",
        "    * 1-2 Loop for each column(old items)\n",
        "        * find min\n",
        "        * pairing\n",
        "        * Remove Column\n",
        "        * Remove Row(if success)\n",
        "    * 1-3 Row remain in dist_table: give new ID & C=1\n",
        "    '''\n",
        "    # 1-1\n",
        "    dist_df = build_dist_table_boxes(new, old)\n",
        "    col_names = list(dist_df.columns)\n",
        "    # row_names = list(dist_df.index)\n",
        "\n",
        "    # 1-2\n",
        "    for col_name in col_names:\n",
        "        # Finding Min && 在THRESHOLD內\n",
        "        min = dist_df[col_name].min()\n",
        "        try:\n",
        "            idx = dist_df[col_name].idxmin()\n",
        "        except ValueError:  # len(old) > len(new)\n",
        "            print(\"len(old) > len(new) ... End at {}\" .format(col_name))\n",
        "            # 將剩餘所有的old item加入new(作法與配對失敗相同)\n",
        "            # (1) 取得剩餘的\n",
        "            rest_of_cols = list(dist_df.columns)\n",
        "            for col in rest_of_cols:\n",
        "                idx_from_last = int(col.split('_')[-1])\n",
        "                old[idx_from_last]['confidence'] *= CONFIDENCE_DROP_RATE\n",
        "                new.append(old[idx_from_last])\n",
        "            break\n",
        "\n",
        "        # Pairing\n",
        "        if min < DISTANCE_TH:\n",
        "            idx_from_last = int(col_name.split('_')[-1])\n",
        "            idx_target_current = int(idx.split('_')[-1])\n",
        "            # 配對成功的處理\n",
        "            # 更新 new table: (1)繼承ID (2)Confidence = 1\n",
        "            new[idx_target_current]['id'] = old[idx_from_last]['id']\n",
        "            new[idx_target_current]['confidence'] = 1\n",
        "            print(\"(Pairing) new[{}] <-- old[{}] ID = {} ...... Distance = {}\"\n",
        "                  .format(idx_target_current, idx_from_last, old[idx_from_last]['id'], min))\n",
        "        else:  # 沒配對成功 --> 處理舊的物件\n",
        "            # 1. Ｃ * CONFIDENCE_DROP_RATE\n",
        "            idx_from_last = int(col_name.split('_')[-1])\n",
        "            old[idx_from_last]['confidence'] *= CONFIDENCE_DROP_RATE\n",
        "            # 2. 加入(繼承)至current_table ...... 使用append實作\n",
        "            new.append(old[idx_from_last])\n",
        "            print(\"(pairing fail) new[{}] <--- old[{}] with C = {}\"\n",
        "                  .format(idx_from_last, idx_from_last, old[idx_from_last]['confidence']*CONFIDENCE_DROP_RATE))\n",
        "\n",
        "        # 移除 Column\n",
        "        dist_df = dist_df.drop(col_name, axis=1)\n",
        "        # 移除 Row\n",
        "        dist_df = dist_df.drop(idx)\n",
        "\n",
        "    # 1-3 將current frame中未配對到的box指派新ID\n",
        "    for i, item in enumerate(new):\n",
        "        if item['id'] is None or item['confidence'] is None:\n",
        "            # print(\"(None type ID) new[{}]: {}\" .format(i, item))\n",
        "            # ids: list出目前的所有id\n",
        "            ids = [new[i]['id'] for i in range(len(new))]\n",
        "\n",
        "            # 找一個在範圍內未使用的id來使用\n",
        "            for j in range(len(new)):\n",
        "                if j not in ids:\n",
        "                    new[i]['id'] = j\n",
        "                    new[i]['confidence'] = 1\n",
        "                    break\n",
        "            print(\"(new id) new[{}] = {}\" .format(i, new[i]['id']))"
      ],
      "execution_count": 2,
      "outputs": []
    },
    {
      "cell_type": "markdown",
      "metadata": {
        "id": "2D0-6x4zX9oB",
        "colab_type": "text"
      },
      "source": [
        "## STEP 2 - Remove [ C < 0.5 ]"
      ]
    },
    {
      "cell_type": "code",
      "metadata": {
        "id": "dgDp2aN4cUNB",
        "colab_type": "code",
        "colab": {}
      },
      "source": [
        "def remove_low_confidence(table):\n",
        "    # 找出要刪除的index\n",
        "    l_to_remove = []\n",
        "    for i in range(len(table)):\n",
        "        if table[i]['confidence'] < CONFIDENCE_THRESHOLD:\n",
        "            l_to_remove.append(i)\n",
        "\n",
        "    # 要從尾往前刪\n",
        "    for i in l_to_remove[::-1]:\n",
        "        del table[i]"
      ],
      "execution_count": null,
      "outputs": []
    },
    {
      "cell_type": "markdown",
      "metadata": {
        "id": "mn5r2PPWYIAB",
        "colab_type": "text"
      },
      "source": [
        "## STEP 3 - Table checking"
      ]
    },
    {
      "cell_type": "code",
      "metadata": {
        "id": "oHqzh9wLb_Cp",
        "colab_type": "code",
        "colab": {}
      },
      "source": [
        "def none_type_checking(table):\n",
        "    for i, item in enumerate(table):\n",
        "        if item['id']==None or item['confidence']==None:\n",
        "            print(\"Got None type field in item\\nnew[{}]: {}\" .format(i, item))"
      ],
      "execution_count": null,
      "outputs": []
    },
    {
      "cell_type": "markdown",
      "metadata": {
        "id": "Ta7NzioYYS7K",
        "colab_type": "text"
      },
      "source": [
        "---\n",
        "# Simulation\n",
        "### From frame_0"
      ]
    },
    {
      "cell_type": "code",
      "metadata": {
        "id": "48JrmVznacdm",
        "colab_type": "code",
        "colab": {}
      },
      "source": [
        "frame0_flag = 0  # 代表目前為最初始狀態，從frame_0開"
      ],
      "execution_count": 3,
      "outputs": []
    },
    {
      "cell_type": "code",
      "metadata": {
        "id": "uA-f2arSZQPu",
        "colab_type": "code",
        "colab": {
          "base_uri": "https://localhost:8080/",
          "height": 557
        },
        "outputId": "e4ae2730-101b-4ad5-edb0-6fc302b58681"
      },
      "source": [
        "if flag == 0:\n",
        "    # INITIALIZATION\n",
        "    new = tracking_table_init_with_id(boxes_0)\n",
        "    frame0_flag = 1\n",
        "else:\n",
        "    # INITIALIZATION\n",
        "    old = new\n",
        "    new = tracking_table_init(boxes_3)  # 模擬改boxes_1, 2, 3, ...\n",
        "\n",
        "    # TRACKING\n",
        "    do_pairing(new, old)  # pairing\n",
        "    remove_low_confidence(new)  # removing\n",
        "    none_type_checking(new)  # checking\n",
        "\n",
        "print(new)\n",
        "df = pd.DataFrame(new)\n",
        "df"
      ],
      "execution_count": null,
      "outputs": [
        {
          "output_type": "stream",
          "text": [
            "last_0 與 curr_0 配對成功 - 距離：7.07\n",
            "要被繼承的old table的index為: 0\n",
            "要被更新的new table的index為: 0\n",
            "last_0 與 curr_3 配對成功 - 距離：2.0\n",
            "要被繼承的old table的index為: 1\n",
            "要被更新的new table的index為: 3\n",
            "last_0 與 curr_2 配對成功 - 距離：4.0\n",
            "要被繼承的old table的index為: 2\n",
            "要被更新的new table的index為: 2\n",
            "last_0 與 curr_1 配對成功 - 距離：2.24\n",
            "要被繼承的old table的index為: 3\n",
            "要被更新的new table的index為: 1\n",
            "last_0 與 curr_4 配對成功 - 距離：6.0\n",
            "要被繼承的old table的index為: 4\n",
            "要被更新的new table的index為: 4\n",
            "比對結束於：last_5\n",
            "[{'id': 4, 'pos': [473, 480], 'confidence': 1}, {'id': 2, 'pos': [971, 534], 'confidence': 1}, {'id': 1, 'pos': [527, 342], 'confidence': 1}, {'id': 3, 'pos': [792, 669], 'confidence': 1}, {'id': 5, 'pos': [782, 373], 'confidence': 1}, {'id': 0, 'pos': [1000, 374], 'confidence': 0.9}]\n"
          ],
          "name": "stdout"
        },
        {
          "output_type": "execute_result",
          "data": {
            "text/html": [
              "<div>\n",
              "<style scoped>\n",
              "    .dataframe tbody tr th:only-of-type {\n",
              "        vertical-align: middle;\n",
              "    }\n",
              "\n",
              "    .dataframe tbody tr th {\n",
              "        vertical-align: top;\n",
              "    }\n",
              "\n",
              "    .dataframe thead th {\n",
              "        text-align: right;\n",
              "    }\n",
              "</style>\n",
              "<table border=\"1\" class=\"dataframe\">\n",
              "  <thead>\n",
              "    <tr style=\"text-align: right;\">\n",
              "      <th></th>\n",
              "      <th>id</th>\n",
              "      <th>pos</th>\n",
              "      <th>confidence</th>\n",
              "    </tr>\n",
              "  </thead>\n",
              "  <tbody>\n",
              "    <tr>\n",
              "      <th>0</th>\n",
              "      <td>4</td>\n",
              "      <td>[473, 480]</td>\n",
              "      <td>1.0</td>\n",
              "    </tr>\n",
              "    <tr>\n",
              "      <th>1</th>\n",
              "      <td>2</td>\n",
              "      <td>[971, 534]</td>\n",
              "      <td>1.0</td>\n",
              "    </tr>\n",
              "    <tr>\n",
              "      <th>2</th>\n",
              "      <td>1</td>\n",
              "      <td>[527, 342]</td>\n",
              "      <td>1.0</td>\n",
              "    </tr>\n",
              "    <tr>\n",
              "      <th>3</th>\n",
              "      <td>3</td>\n",
              "      <td>[792, 669]</td>\n",
              "      <td>1.0</td>\n",
              "    </tr>\n",
              "    <tr>\n",
              "      <th>4</th>\n",
              "      <td>5</td>\n",
              "      <td>[782, 373]</td>\n",
              "      <td>1.0</td>\n",
              "    </tr>\n",
              "    <tr>\n",
              "      <th>5</th>\n",
              "      <td>0</td>\n",
              "      <td>[1000, 374]</td>\n",
              "      <td>0.9</td>\n",
              "    </tr>\n",
              "  </tbody>\n",
              "</table>\n",
              "</div>"
            ],
            "text/plain": [
              "   id          pos  confidence\n",
              "0   4   [473, 480]         1.0\n",
              "1   2   [971, 534]         1.0\n",
              "2   1   [527, 342]         1.0\n",
              "3   3   [792, 669]         1.0\n",
              "4   5   [782, 373]         1.0\n",
              "5   0  [1000, 374]         0.9"
            ]
          },
          "metadata": {
            "tags": []
          },
          "execution_count": 29
        }
      ]
    },
    {
      "cell_type": "code",
      "metadata": {
        "id": "o_LL2y2PbboG",
        "colab_type": "code",
        "colab": {
          "base_uri": "https://localhost:8080/",
          "height": 266
        },
        "outputId": "c7a61313-a9cb-42b7-ee4e-bbbbb3116b51"
      },
      "source": [
        "print(old)\n",
        "df = pd.DataFrame(old)\n",
        "df"
      ],
      "execution_count": null,
      "outputs": [
        {
          "output_type": "stream",
          "text": [
            "[{'id': 4, 'pos': [474, 487], 'confidence': 1}, {'id': 3, 'pos': [792, 671], 'confidence': 1}, {'id': 1, 'pos': [527, 346], 'confidence': 1}, {'id': 2, 'pos': [973, 533], 'confidence': 1}, {'id': 5, 'pos': [782, 379], 'confidence': 1}, {'id': 0, 'pos': [1000, 374], 'confidence': 0.9}]\n"
          ],
          "name": "stdout"
        },
        {
          "output_type": "execute_result",
          "data": {
            "text/html": [
              "<div>\n",
              "<style scoped>\n",
              "    .dataframe tbody tr th:only-of-type {\n",
              "        vertical-align: middle;\n",
              "    }\n",
              "\n",
              "    .dataframe tbody tr th {\n",
              "        vertical-align: top;\n",
              "    }\n",
              "\n",
              "    .dataframe thead th {\n",
              "        text-align: right;\n",
              "    }\n",
              "</style>\n",
              "<table border=\"1\" class=\"dataframe\">\n",
              "  <thead>\n",
              "    <tr style=\"text-align: right;\">\n",
              "      <th></th>\n",
              "      <th>id</th>\n",
              "      <th>pos</th>\n",
              "      <th>confidence</th>\n",
              "    </tr>\n",
              "  </thead>\n",
              "  <tbody>\n",
              "    <tr>\n",
              "      <th>0</th>\n",
              "      <td>4</td>\n",
              "      <td>[474, 487]</td>\n",
              "      <td>1.0</td>\n",
              "    </tr>\n",
              "    <tr>\n",
              "      <th>1</th>\n",
              "      <td>3</td>\n",
              "      <td>[792, 671]</td>\n",
              "      <td>1.0</td>\n",
              "    </tr>\n",
              "    <tr>\n",
              "      <th>2</th>\n",
              "      <td>1</td>\n",
              "      <td>[527, 346]</td>\n",
              "      <td>1.0</td>\n",
              "    </tr>\n",
              "    <tr>\n",
              "      <th>3</th>\n",
              "      <td>2</td>\n",
              "      <td>[973, 533]</td>\n",
              "      <td>1.0</td>\n",
              "    </tr>\n",
              "    <tr>\n",
              "      <th>4</th>\n",
              "      <td>5</td>\n",
              "      <td>[782, 379]</td>\n",
              "      <td>1.0</td>\n",
              "    </tr>\n",
              "    <tr>\n",
              "      <th>5</th>\n",
              "      <td>0</td>\n",
              "      <td>[1000, 374]</td>\n",
              "      <td>0.9</td>\n",
              "    </tr>\n",
              "  </tbody>\n",
              "</table>\n",
              "</div>"
            ],
            "text/plain": [
              "   id          pos  confidence\n",
              "0   4   [474, 487]         1.0\n",
              "1   3   [792, 671]         1.0\n",
              "2   1   [527, 346]         1.0\n",
              "3   2   [973, 533]         1.0\n",
              "4   5   [782, 379]         1.0\n",
              "5   0  [1000, 374]         0.9"
            ]
          },
          "metadata": {
            "tags": []
          },
          "execution_count": 30
        }
      ]
    }
  ]
}